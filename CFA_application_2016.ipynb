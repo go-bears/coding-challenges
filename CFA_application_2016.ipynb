{
 "cells": [
  {
   "cell_type": "code",
   "execution_count": 60,
   "metadata": {
    "collapsed": true
   },
   "outputs": [],
   "source": [
    "import pandas as pd\n",
    "import matplotlib.pyplot as plt"
   ]
  },
  {
   "cell_type": "code",
   "execution_count": 61,
   "metadata": {
    "collapsed": true
   },
   "outputs": [],
   "source": [
    "%matplotlib inline"
   ]
  },
  {
   "cell_type": "code",
   "execution_count": 121,
   "metadata": {
    "collapsed": false
   },
   "outputs": [],
   "source": [
    "# downloads information in csv link and converts csv data to data frame\n",
    "data = pd.read_csv(\"http://forever.codeforamerica.org/fellowship-2015-tech-interview/Violations-2012.csv\",parse_dates=['violation_date', 'violation_date_closed'])\n",
    "data_frame = pd.DataFrame(data)"
   ]
  },
  {
   "cell_type": "code",
   "execution_count": 119,
   "metadata": {
    "collapsed": false
   },
   "outputs": [
    {
     "data": {
      "text/html": [
       "<div>\n",
       "<table border=\"1\" class=\"dataframe\">\n",
       "  <thead>\n",
       "    <tr style=\"text-align: right;\">\n",
       "      <th></th>\n",
       "      <th>violation_category</th>\n",
       "      <th>violation_date</th>\n",
       "    </tr>\n",
       "  </thead>\n",
       "  <tbody>\n",
       "    <tr>\n",
       "      <th>0</th>\n",
       "      <td>Garbage and Refuse</td>\n",
       "      <td>2012-01-03</td>\n",
       "    </tr>\n",
       "    <tr>\n",
       "      <th>1</th>\n",
       "      <td>Unsanitary Conditions</td>\n",
       "      <td>2012-01-03</td>\n",
       "    </tr>\n",
       "    <tr>\n",
       "      <th>2</th>\n",
       "      <td>Garbage and Refuse</td>\n",
       "      <td>2012-01-03</td>\n",
       "    </tr>\n",
       "    <tr>\n",
       "      <th>3</th>\n",
       "      <td>Garbage and Refuse</td>\n",
       "      <td>2012-01-03</td>\n",
       "    </tr>\n",
       "    <tr>\n",
       "      <th>4</th>\n",
       "      <td>Garbage and Refuse</td>\n",
       "      <td>2012-01-03</td>\n",
       "    </tr>\n",
       "  </tbody>\n",
       "</table>\n",
       "</div>"
      ],
      "text/plain": [
       "      violation_category violation_date\n",
       "0     Garbage and Refuse     2012-01-03\n",
       "1  Unsanitary Conditions     2012-01-03\n",
       "2     Garbage and Refuse     2012-01-03\n",
       "3     Garbage and Refuse     2012-01-03\n",
       "4     Garbage and Refuse     2012-01-03"
      ]
     },
     "execution_count": 119,
     "metadata": {},
     "output_type": "execute_result"
    }
   ],
   "source": [
    "# parse data set to relevant data points\n",
    "violations = data_frame[['violation_category','violation_date']]"
   ]
  },
  {
   "cell_type": "markdown",
   "metadata": {},
   "source": [
    "# Calculate the number of violations in each category"
   ]
  },
  {
   "cell_type": "code",
   "execution_count": 79,
   "metadata": {
    "collapsed": false
   },
   "outputs": [],
   "source": [
    "# violations categories are sorted by the number of violations in each category\n",
    "\n",
    "violations_group = violations.groupby('violation_category')\n",
    "violations_number = violations_group.size().sort_values()                             "
   ]
  },
  {
   "cell_type": "code",
   "execution_count": 118,
   "metadata": {
    "collapsed": false
   },
   "outputs": [
    {
     "name": "stdout",
     "output_type": "stream",
     "text": [
      "violation_category\n",
      "Retail Food                   1\n",
      "Air Pollutants and Odors      2\n",
      "Biohazards                    7\n",
      "Chemical Hazards             17\n",
      "Building Conditions          62\n",
      "Vegetation                   67\n",
      "Unsanitary Conditions        83\n",
      "Garbage and Refuse          126\n",
      "Animals and Pests           180\n",
      "dtype: int64\n"
     ]
    }
   ],
   "source": [
    "# print output of sorted values\n",
    "print violations_number"
   ]
  },
  {
   "cell_type": "markdown",
   "metadata": {},
   "source": [
    "# Find the earliest and latest date for each violation"
   ]
  },
  {
   "cell_type": "code",
   "execution_count": 123,
   "metadata": {
    "collapsed": false
   },
   "outputs": [],
   "source": [
    "# find and print earliest date for each violation category with \n",
    "earliest = violations.loc[violations.groupby(\"violation_category\")[\"violation_date\"].idxmin()]\n",
    "  "
   ]
  },
  {
   "cell_type": "code",
   "execution_count": 113,
   "metadata": {
    "collapsed": false
   },
   "outputs": [
    {
     "data": {
      "text/html": [
       "<div>\n",
       "<table border=\"1\" class=\"dataframe\">\n",
       "  <thead>\n",
       "    <tr style=\"text-align: right;\">\n",
       "      <th></th>\n",
       "      <th>violation_category</th>\n",
       "      <th>violation_date</th>\n",
       "    </tr>\n",
       "  </thead>\n",
       "  <tbody>\n",
       "    <tr>\n",
       "      <th>529</th>\n",
       "      <td>Air Pollutants and Odors</td>\n",
       "      <td>2012-12-19</td>\n",
       "    </tr>\n",
       "    <tr>\n",
       "      <th>492</th>\n",
       "      <td>Animals and Pests</td>\n",
       "      <td>2012-12-28</td>\n",
       "    </tr>\n",
       "    <tr>\n",
       "      <th>526</th>\n",
       "      <td>Biohazards</td>\n",
       "      <td>2012-12-18</td>\n",
       "    </tr>\n",
       "    <tr>\n",
       "      <th>542</th>\n",
       "      <td>Building Conditions</td>\n",
       "      <td>2012-12-26</td>\n",
       "    </tr>\n",
       "    <tr>\n",
       "      <th>482</th>\n",
       "      <td>Chemical Hazards</td>\n",
       "      <td>2012-12-06</td>\n",
       "    </tr>\n",
       "    <tr>\n",
       "      <th>502</th>\n",
       "      <td>Garbage and Refuse</td>\n",
       "      <td>2012-12-21</td>\n",
       "    </tr>\n",
       "    <tr>\n",
       "      <th>541</th>\n",
       "      <td>Retail Food</td>\n",
       "      <td>2012-12-20</td>\n",
       "    </tr>\n",
       "    <tr>\n",
       "      <th>537</th>\n",
       "      <td>Unsanitary Conditions</td>\n",
       "      <td>2012-12-19</td>\n",
       "    </tr>\n",
       "    <tr>\n",
       "      <th>477</th>\n",
       "      <td>Vegetation</td>\n",
       "      <td>2012-12-05</td>\n",
       "    </tr>\n",
       "  </tbody>\n",
       "</table>\n",
       "</div>"
      ],
      "text/plain": [
       "           violation_category violation_date\n",
       "529  Air Pollutants and Odors     2012-12-19\n",
       "492         Animals and Pests     2012-12-28\n",
       "526                Biohazards     2012-12-18\n",
       "542       Building Conditions     2012-12-26\n",
       "482          Chemical Hazards     2012-12-06\n",
       "502        Garbage and Refuse     2012-12-21\n",
       "541               Retail Food     2012-12-20\n",
       "537     Unsanitary Conditions     2012-12-19\n",
       "477                Vegetation     2012-12-05"
      ]
     },
     "execution_count": 113,
     "metadata": {},
     "output_type": "execute_result"
    }
   ],
   "source": [
    "# find and print latest date for each violation\n",
    "latest = violations.loc[violations.groupby(\"violation_category\")[\"violation_date\"].idxmax()]\n",
    "latest\n"
   ]
  }
 ],
 "metadata": {
  "kernelspec": {
   "display_name": "Python 2",
   "language": "python",
   "name": "python2"
  },
  "language_info": {
   "codemirror_mode": {
    "name": "ipython",
    "version": 2
   },
   "file_extension": ".py",
   "mimetype": "text/x-python",
   "name": "python",
   "nbconvert_exporter": "python",
   "pygments_lexer": "ipython2",
   "version": "2.7.6"
  }
 },
 "nbformat": 4,
 "nbformat_minor": 0
}
